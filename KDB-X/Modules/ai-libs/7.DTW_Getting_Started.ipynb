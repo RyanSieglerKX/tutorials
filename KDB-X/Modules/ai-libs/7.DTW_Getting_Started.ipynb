{
 "cells": [
  {
   "cell_type": "markdown",
   "id": "977f6a2e",
   "metadata": {},
   "source": [
    "# 7. Dynamic Time Warping on NYSE trades\n",
    "\n",
    "[Dynamic Time Warping (DTW)](https://docs.kx.com/public-preview/kdb-x/Reference/dtw-index-parameters.htm) is an algorithm used to measure the similarity between two temporal sequences that may vary in speed or timing. Unlike simple distance metrics, DTW aligns sequences by stretching or compressing segments so that similar shapes or patterns can be matched even if they occur at different rates or are out of phase. \n",
    "\n",
    "This technique is widely used in fields such as speech recognition, finance, and bioinformatics, where comparing time series data with varying lengths or temporal distortions is essential. DTW provides a flexible way to identify patterns and trends across datasets that are not perfectly synchronized.\n",
    "\n",
    "This tutorial walks through the process of creating a database filled with a day's worth of NYSE data, and then applying Dynamic Time Warping search to find similar patterns across the price column.\n",
    "\n",
    "### 1. Prerequisites\n",
    "\n",
    "This notebook is compatible with Linux, Mac, and Windows via WSL.\n",
    "\n",
    "This notebook is designed to be run as a Python notebook, but the same funtionality can be applied directly in a CLI with KDB-X. If running q from the terminal: Just copy the q code starting in section 3, and paste into your terminal.\n",
    "\n",
    "View the [KDB-X Docs](https://docs.kx.com/public-preview/kdb-x/home.htm) for full details on KDB-X and KDB-X Python.\n",
    "\n",
    "\n",
    "1. Requires KDB-X to be installed, you can sign up [here](https://developer.kx.com/products/kdb-x/install). For full install instructions see: [KDB-X Install](https://docs.kx.com/public-preview/kdb-x/Get_Started/kdb-x-install.htm).\n",
    "2. Ensure you have the necessary dataset:\n",
    "   1. Download the NYSE sample dataset from NYSE: [US Trades](https://ftp.nyse.com/Historical%20Data%20Samples/TAQ%20NYSE%20TRADES/EQY_US_TAQ_NYSE_TRADES_20231002.gz) (Open link in a new tab to start the download)\n",
    "   2. Copy the `.gz` file into the same directory where you are running this \n",
    "   \n",
    "3. Install KDB-X Python: (For full install instructions see: [KDB-X Python Install](https://docs.kx.com/public-preview/kdb-x/Get_Started/kdb-x-python-install.htm))"
   ]
  },
  {
   "cell_type": "code",
   "execution_count": 1,
   "id": "9bd3c53d",
   "metadata": {},
   "outputs": [],
   "source": [
    "!pip install -qq --upgrade --pre pykx"
   ]
  },
  {
   "cell_type": "markdown",
   "id": "80b4f5bd",
   "metadata": {},
   "source": [
    "### 2. Initialize q First Mode\n",
    "\n",
    "To easily interact with KDB-X and q from a Python notebook, it is best to use [q first mode](https://code.kx.com/pykx/3.1/examples/jupyter-integration.html#7-q-first-mode)."
   ]
  },
  {
   "cell_type": "code",
   "execution_count": 2,
   "id": "bc025f2f",
   "metadata": {},
   "outputs": [
    {
     "name": "stdout",
     "output_type": "stream",
     "text": [
      "\n",
      "Welcome to KDB-X Community Edition!\n",
      "For Community support, please visit https://kx.com/slack\n",
      "Tutorials can be found at https://github.com/KxSystems/tutorials\n",
      "Ready to go beyond the Community Edition? Email preview@kx.com\n",
      "\n",
      "PyKX now running in 'jupyter_qfirst' mode. All cells by default will be run as q code.\n",
      "Include '%%py' at the beginning of each cell to run as python code. \n"
     ]
    }
   ],
   "source": [
    "import pykx as kx\n",
    "kx.util.jupyter_qfirst_enable()"
   ]
  },
  {
   "cell_type": "markdown",
   "id": "4d2d1e85",
   "metadata": {},
   "source": [
    "### 3. Load the AI Libs KDB-X Module & Prepare the Environment\n",
    "This loads several AI Libs modules, including the DTW functionality."
   ]
  },
  {
   "cell_type": "code",
   "execution_count": null,
   "id": "79e5e281",
   "metadata": {},
   "outputs": [],
   "source": [
    "\\l ai-libs/init.q"
   ]
  },
  {
   "cell_type": "markdown",
   "id": "5b9fc5fd",
   "metadata": {},
   "source": [
    "Set a random seed for reproducable results:"
   ]
  },
  {
   "cell_type": "code",
   "execution_count": 4,
   "id": "21afc388",
   "metadata": {},
   "outputs": [],
   "source": [
    "\\S 42"
   ]
  },
  {
   "cell_type": "markdown",
   "id": "185d451e",
   "metadata": {},
   "source": [
    "### 4. Loading and Preparing the Data\n",
    "\n",
    "Load the dataset (`EQY_US_TAQ_NYSE_TRADES_20231002.gz`) into a table using [named pipe fifo](https://code.kx.com/q/kb/named-pipes/), and [.Q.fps](https://code.kx.com/q/ref/dotq/#fps-pipe-streaming):"
   ]
  },
  {
   "cell_type": "code",
   "execution_count": 5,
   "id": "abe810d7",
   "metadata": {},
   "outputs": [],
   "source": [
    "file:\"EQY_US_TAQ_NYSE_TRADES_20231002.gz\";\n",
    "system\"rm -f fifo && mkfifo fifo\";\n",
    "trade:([] msgType:();sequenceNo:();time:();sym:();tradeId:();price:();volume:());\n",
    "system\"gunzip -cf \",file,\" > fifo &\";\n",
    ".Q.fps[{`trade upsert flip (\"JJNS JFJ    \";\",\" )0:x}]`:fifo;\n",
    "hdel `:fifo;\n",
    "trade:update `g#sym from select from trade where msgType=220;\n"
   ]
  },
  {
   "cell_type": "markdown",
   "id": "0b1ed732",
   "metadata": {},
   "source": [
    "In the above:\n",
    "- Linux fifo is used to efficiently parse the gzipped data\n",
    "- The function `.Q.fps` is used to read files too large to fit into memory, it loops over a file in conveniently-sized chunks of complete records, and applies a function to each chunk\n",
    "- The schema `\"JJNS JFJ    \"` specifies the datatypes for each column\n",
    "- The `\",\"` ensures the CSV is parsed using commas as delimiters.\n",
    "\n",
    "Now the dataset has been loaded, we can inspect the table using `first` to see what the first row of the table looks like:"
   ]
  },
  {
   "cell_type": "code",
   "execution_count": 6,
   "id": "55c5575c",
   "metadata": {},
   "outputs": [
    {
     "name": "stdout",
     "output_type": "stream",
     "text": [
      "msgType   | 220\n",
      "sequenceNo| 58765\n",
      "time      | 0D07:00:00.105862814\n",
      "sym       | `TMF\n",
      "tradeId   | 24476\n",
      "price     | 4.74\n",
      "volume    | 4000\n"
     ]
    }
   ],
   "source": [
    "first trade"
   ]
  },
  {
   "cell_type": "markdown",
   "id": "eb148579",
   "metadata": {},
   "source": [
    "This shows a single trade message for the symbol TMF executed at a price of $4.74 for 4,000 shares at 7:00:00 on October 2, 2023.\n",
    "\n",
    "Now that we understand the structure of the data, we can move on to efficiently querying using TSS and DTW.\n"
   ]
  },
  {
   "cell_type": "markdown",
   "id": "6e2dc2cf",
   "metadata": {},
   "source": [
    "### 5. Performing DTW Searches\n",
    "\n",
    "Now, we create a [random walk](https://en.wikipedia.org/wiki/Random_walk) float vector which we will use as our pattern we wish to find matches of. We choose a pattern length of 25 arbitrarily here, feel free to experiment with your own query vectors."
   ]
  },
  {
   "cell_type": "code",
   "execution_count": 7,
   "id": "cf48c20f",
   "metadata": {},
   "outputs": [],
   "source": [
    "vector:10*abs sums neg[0.5]+25?1f"
   ]
  },
  {
   "cell_type": "markdown",
   "id": "9759f878",
   "metadata": {},
   "source": [
    "In the above:\n",
    "- `25?1f` generates 25 random float numbers between 0 and 1 \n",
    "- `neg[0.5]` returns -0.5\n",
    "- `sums` computes the cumulative sum, `abs` tables the absolute value of these and finally we multiply by `10*`\n",
    "\n",
    "The result is a random pattern that fluctuates around zero, mimicking price fluctuations that we may want to detect in the time-series data."
   ]
  },
  {
   "cell_type": "code",
   "execution_count": 8,
   "id": "f47f8b99",
   "metadata": {},
   "outputs": [
    {
     "name": "stdout",
     "output_type": "stream",
     "text": [
      "2.742128 4.791852 5.003978 10.00096 5.120625 8.321094 13.1784 12.8079 16.3266..\n"
     ]
    }
   ],
   "source": [
    "vector"
   ]
  },
  {
   "cell_type": "markdown",
   "id": "77a6eeec",
   "metadata": {},
   "source": [
    "#### Example Query: Simple TSS Full Query on Price\n",
    "\n",
    "We can run a simple TSS search across our price column using the [`.ai.tss.tss`](https://docs.kx.com/public-preview/kdb-x/Reference/tss-index-parameters.htm#aitsstss) function:"
   ]
  },
  {
   "cell_type": "code",
   "execution_count": 9,
   "id": "d237ca32",
   "metadata": {},
   "outputs": [
    {
     "name": "stdout",
     "output_type": "stream",
     "text": [
      "distances| 1.993204 2.127701 2.139295 2.142165 2.193366\n",
      "indexes  | 3285704  3186212  2417271  2047819  2314123 \n"
     ]
    }
   ],
   "source": [
    "`distances`indexes!.ai.tss.tss[;vector;5;::] trade`price"
   ]
  },
  {
   "cell_type": "markdown",
   "id": "47d86347",
   "metadata": {},
   "source": [
    "The result is a 2 element tuple of distances and ids:\n",
    "- The first list shows the Euclidean (L2) distance between each query `vector` and the matched pattern.\n",
    "- The second list shows the indexes in the time series where the matched pattern begins.\n",
    "\n",
    "For more information on TSS, see our [TSS Tutorial](https://github.com/KxSystems/tutorials/blob/main/KDB-X/Modules/ai-libs/1.TSS_Search_by_NYSETrades.md)."
   ]
  },
  {
   "cell_type": "markdown",
   "id": "2a450606",
   "metadata": {},
   "source": [
    "#### DTW Search Query\n",
    "\n",
    "Here we run our first DTW query using the [`.ai.dtw.search`](https://docs.kx.com/public-preview/kdb-x/Reference/dtw-index-parameters.htm) function.\n",
    "\n",
    "The code ``` `distances`indexes!.ai.dtw.search[;vector;5;0.0;::] trade`price` ``` performs a Dynamic Time Warping (DTW) search on the `price` column of the `trade` table using the query vector `vector`. \n",
    "\n",
    "The `.ai.dtw.search` function compares the query pattern against the time series data, identifying the top 5 most similar subsequences based on DTW distance. The fourth parameter, `0.0`, is the window. It is the ratio of the query size allowed in warping. The larger the window, the more flexible, and time-consuming the search is.\n",
    "\n",
    "In this case, since the window is `0.0`, it is identical to running a basic TSS search."
   ]
  },
  {
   "cell_type": "code",
   "execution_count": 10,
   "id": "a91b5809",
   "metadata": {},
   "outputs": [
    {
     "name": "stdout",
     "output_type": "stream",
     "text": [
      "distances| 1.993204 2.127701 2.139295 2.142165 2.195907\n",
      "indexes  | 3285704  3186212  2417271  2047819  2314123 \n"
     ]
    }
   ],
   "source": [
    "`distances`indexes!.ai.dtw.search[;vector;5;0.0;::] trade`price"
   ]
  },
  {
   "cell_type": "markdown",
   "id": "a82cf5ab",
   "metadata": {},
   "source": [
    "Let's try it again, but allow for some DTW window flexiblity during the search by setting the window to `0.1`:"
   ]
  },
  {
   "cell_type": "code",
   "execution_count": 11,
   "id": "48184c34",
   "metadata": {},
   "outputs": [
    {
     "name": "stdout",
     "output_type": "stream",
     "text": [
      "distances| 1.519624 1.766677 1.773423 1.78443 1.794284\n",
      "indexes  | 3802228  24797    2314123  2746995 4067262 \n"
     ]
    }
   ],
   "source": [
    "`distances`indexes!.ai.dtw.search[;vector;5;0.1;::] trade`price"
   ]
  },
  {
   "cell_type": "markdown",
   "id": "e1fefa83",
   "metadata": {},
   "source": [
    "Finally, we set the window to a higher value of `0.8`, to get even more time warping into our search. You might be able to tell that this search takes longer than the others."
   ]
  },
  {
   "cell_type": "code",
   "execution_count": 12,
   "id": "ceb287b7",
   "metadata": {},
   "outputs": [
    {
     "name": "stdout",
     "output_type": "stream",
     "text": [
      "distances| 1.265552 1.354349 1.446201 1.468039 1.515346\n",
      "indexes  | 2303698  632384   632383   2303699  3388567 \n"
     ]
    }
   ],
   "source": [
    "`distances`indexes!.ai.dtw.search[;vector;5;0.8;::] trade`price"
   ]
  },
  {
   "cell_type": "markdown",
   "id": "c3cd1bd1",
   "metadata": {},
   "source": [
    "#### DTW searchRange Query\n",
    "\n",
    "The DTW searchRange query gives us some additional flexiblity in setting a maximum distance. Here we set that to 1.6, meaning it will only return matches within a distance of 1.6."
   ]
  },
  {
   "cell_type": "code",
   "execution_count": 17,
   "id": "cda4dc4c",
   "metadata": {},
   "outputs": [
    {
     "name": "stdout",
     "output_type": "stream",
     "text": [
      "distances| 1.265552 1.468039 1.507729 1.519624 1.520065 1.592965\n",
      "indexes  | 2303698  2303699  632384   3802228  3388567  2620562 \n"
     ]
    }
   ],
   "source": [
    "`distances`indexes!.ai.dtw.searchRange[;vector;0.2;1.6;::] trade`price"
   ]
  },
  {
   "cell_type": "markdown",
   "id": "9e1765c4",
   "metadata": {},
   "source": [
    "#### DTW filteredSearch Query\n",
    "\n",
    "The DTW filteredSearch query allows us to set a maximum results cap. Here we limit the results to 3, and ensure returned results are <1.6."
   ]
  },
  {
   "cell_type": "code",
   "execution_count": 18,
   "id": "c9c52dae",
   "metadata": {},
   "outputs": [
    {
     "name": "stdout",
     "output_type": "stream",
     "text": [
      "distances| 1.265552 1.468039 1.507729\n",
      "indexes  | 2303698  2303699  632384  \n"
     ]
    }
   ],
   "source": [
    "`distances`indexes!.ai.dtw.filterSearch[;vector;3;0.2;1.6;::] trade`price"
   ]
  },
  {
   "cell_type": "markdown",
   "id": "18b814d0",
   "metadata": {},
   "source": [
    "### Conclusion\n",
    "\n",
    "In this tutorial, we explored how Dynamic Time Warping (DTW) can be applied to financial time series data using KDB-X. We learned how to initialize q First Mode in the notebook, load and prepare NYSE trade data, and use DTW-based search functions to identify similar patterns in price movements—even when those patterns occur at different speeds or times. "
   ]
  }
 ],
 "metadata": {
  "kernelspec": {
   "display_name": ".venv",
   "language": "python",
   "name": "python3"
  },
  "language_info": {
   "codemirror_mode": {
    "name": "ipython",
    "version": 3
   },
   "file_extension": ".py",
   "mimetype": "text/x-python",
   "name": "python",
   "nbconvert_exporter": "python",
   "pygments_lexer": "ipython3",
   "version": "3.10.12"
  }
 },
 "nbformat": 4,
 "nbformat_minor": 5
}
